{
 "cells": [
  {
   "cell_type": "markdown",
   "metadata": {},
   "source": [
    "#### Creating a retail banking database and adding tables to it"
   ]
  },
  {
   "cell_type": "code",
   "execution_count": 7,
   "metadata": {},
   "outputs": [],
   "source": [
    "# loading the libraries to be used \n",
    "import pandas as pd \n",
    "import psycopg2 as ps \n",
    "import numpy as np"
   ]
  },
  {
   "cell_type": "code",
   "execution_count": 8,
   "metadata": {},
   "outputs": [],
   "source": [
    "def create_database () :\n",
    "    \"\"\"A function to create and connect a database \"\"\"\n",
    "    # connecting to a default database \n",
    "    conn = ps.connect(\"host = 127.0.0.1 dbname=postgres user=postgres  password=Breakingbad \")\n",
    "    conn.set_session(autocommit=True)\n",
    "    cur = conn.cursor()\n",
    "\n",
    "\n",
    "    # create a database \n",
    "    cur.execute(\"DROP DATABASE IF EXISTS banking\")\n",
    "    cur.execute (\"CREATE DATABASE banking\")\n",
    "\n",
    "    # closing the connection to the default datbase \n",
    "    cur.close()\n",
    "\n",
    "    # connecting the created database\n",
    "    conn = ps.connect(\"host = 127.0.0.1 dbname=postgres user=postgres  password=Breakingbad \")\n",
    "    conn.set_session(autocommit=True)\n",
    "    cur = conn.cursor()\n",
    "\n"
   ]
  },
  {
   "cell_type": "markdown",
   "metadata": {},
   "source": []
  },
  {
   "cell_type": "code",
   "execution_count": null,
   "metadata": {},
   "outputs": [],
   "source": [
    "loans_table = (\"\"\"\n",
    "    CREATE TABLE IF NOT EXISTS loans(\n",
    "            loan_id VARCHAR PRIMARY KEY NOT NULL,\n",
    "            account_id VARCHAR NOT NULL,\n",
    "            amount NUMERIC \n",
    "            duration INTEGER \n",
    "            year INTEGER\n",
    "            purpose TEXT \n",
    "    )\"\"\")\n",
    "\n",
    "#execute the query \n",
    "cur.execute(loans_table)\n",
    "#commiting the query \n",
    "cur.commit()"
   ]
  },
  {
   "cell_type": "code",
   "execution_count": 10,
   "metadata": {},
   "outputs": [
    {
     "data": {
      "text/html": [
       "<div>\n",
       "<style scoped>\n",
       "    .dataframe tbody tr th:only-of-type {\n",
       "        vertical-align: middle;\n",
       "    }\n",
       "\n",
       "    .dataframe tbody tr th {\n",
       "        vertical-align: top;\n",
       "    }\n",
       "\n",
       "    .dataframe thead th {\n",
       "        text-align: right;\n",
       "    }\n",
       "</style>\n",
       "<table border=\"1\" class=\"dataframe\">\n",
       "  <thead>\n",
       "    <tr style=\"text-align: right;\">\n",
       "      <th></th>\n",
       "      <th>client_id</th>\n",
       "      <th>first</th>\n",
       "      <th>last</th>\n",
       "      <th>email</th>\n",
       "      <th>fulldate</th>\n",
       "    </tr>\n",
       "  </thead>\n",
       "  <tbody>\n",
       "    <tr>\n",
       "      <th>0</th>\n",
       "      <td>C00000001</td>\n",
       "      <td>Emma</td>\n",
       "      <td>Smith</td>\n",
       "      <td>emma.smith@gmail.com</td>\n",
       "      <td>1990-12-13</td>\n",
       "    </tr>\n",
       "    <tr>\n",
       "      <th>1</th>\n",
       "      <td>C00000002</td>\n",
       "      <td>Noah</td>\n",
       "      <td>Thompson</td>\n",
       "      <td>noah.thompson@gmail.com</td>\n",
       "      <td>1965-02-04</td>\n",
       "    </tr>\n",
       "    <tr>\n",
       "      <th>2</th>\n",
       "      <td>C00000003</td>\n",
       "      <td>Olivia</td>\n",
       "      <td>Johnson</td>\n",
       "      <td>olivia.johnson@outlook.com</td>\n",
       "      <td>1960-10-09</td>\n",
       "    </tr>\n",
       "    <tr>\n",
       "      <th>3</th>\n",
       "      <td>C00000004</td>\n",
       "      <td>Liam</td>\n",
       "      <td>White</td>\n",
       "      <td>liam.white@gmail.com</td>\n",
       "      <td>1976-12-01</td>\n",
       "    </tr>\n",
       "    <tr>\n",
       "      <th>4</th>\n",
       "      <td>C00000005</td>\n",
       "      <td>Sophia</td>\n",
       "      <td>Williams</td>\n",
       "      <td>sophia.williams@gmail.com</td>\n",
       "      <td>1980-07-03</td>\n",
       "    </tr>\n",
       "  </tbody>\n",
       "</table>\n",
       "</div>"
      ],
      "text/plain": [
       "   client_id   first      last                       email    fulldate\n",
       "0  C00000001    Emma     Smith        emma.smith@gmail.com  1990-12-13\n",
       "1  C00000002    Noah  Thompson     noah.thompson@gmail.com  1965-02-04\n",
       "2  C00000003  Olivia   Johnson  olivia.johnson@outlook.com  1960-10-09\n",
       "3  C00000004    Liam     White        liam.white@gmail.com  1976-12-01\n",
       "4  C00000005  Sophia  Williams   sophia.williams@gmail.com  1980-07-03"
      ]
     },
     "execution_count": 10,
     "metadata": {},
     "output_type": "execute_result"
    }
   ],
   "source": [
    "clients = pd.read_csv(\"clientdetails.csv\")\n",
    "clients.head()"
   ]
  },
  {
   "cell_type": "code",
   "execution_count": null,
   "metadata": {},
   "outputs": [],
   "source": [
    "clients_table =(\"\"\"\n",
    "    CREATE TABLE IF NOT EXISTS clients ()\"\"\")"
   ]
  },
  {
   "cell_type": "code",
   "execution_count": null,
   "metadata": {},
   "outputs": [],
   "source": []
  },
  {
   "cell_type": "code",
   "execution_count": null,
   "metadata": {},
   "outputs": [],
   "source": []
  }
 ],
 "metadata": {
  "kernelspec": {
   "display_name": "dan",
   "language": "python",
   "name": "python3"
  },
  "language_info": {
   "codemirror_mode": {
    "name": "ipython",
    "version": 3
   },
   "file_extension": ".py",
   "mimetype": "text/x-python",
   "name": "python",
   "nbconvert_exporter": "python",
   "pygments_lexer": "ipython3",
   "version": "3.12.1"
  }
 },
 "nbformat": 4,
 "nbformat_minor": 2
}
