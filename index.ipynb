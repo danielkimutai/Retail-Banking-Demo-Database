{
 "cells": [
  {
   "cell_type": "markdown",
   "metadata": {},
   "source": [
    "#### Creating a retail banking database and adding tables to it"
   ]
  },
  {
   "cell_type": "code",
   "execution_count": 54,
   "metadata": {},
   "outputs": [],
   "source": [
    "# loading the libraries to be used \n",
    "import pandas as pd \n",
    "import psycopg2 as ps \n",
    "import numpy as np"
   ]
  },
  {
   "cell_type": "code",
   "execution_count": 55,
   "metadata": {},
   "outputs": [],
   "source": [
    "def create_database () :\n",
    "    \"\"\"A function to create and connect a database \"\"\"\n",
    "    # connecting to a default database \n",
    "    conn = ps.connect(\"host = 127.0.0.1 dbname=postgres user=postgres  password=Breakingbad \")\n",
    "    conn.set_session(autocommit=True)\n",
    "    cur = conn.cursor()\n",
    "\n",
    "# Terminate all connections to the database\n",
    "    cur.execute(\"SELECT pg_terminate_backend(pg_stat_activity.pid) FROM pg_stat_activity WHERE pg_stat_activity.datname = 'accounts' AND pid <> pg_backend_pid();\")\n",
    "\n",
    "    # create a database \n",
    "    cur.execute(\"DROP DATABASE IF EXISTS banking\")\n",
    "    cur.execute (\"CREATE DATABASE banking\")\n",
    "\n",
    "    # closing the connection to the default datbase \n",
    "    cur.close()\n",
    "\n",
    "    #connecting the created database\n",
    "    conn = ps.connect(\"host = 127.0.0.1 dbname=banking user=postgres  password=Breakingbad \")\n",
    "    conn.set_session(autocommit=True)\n",
    "    cur = conn.cursor()\n",
    "\n",
    "    return cur, conn\n",
    "\n"
   ]
  },
  {
   "cell_type": "code",
   "execution_count": 56,
   "metadata": {},
   "outputs": [],
   "source": [
    "conn.close()"
   ]
  },
  {
   "cell_type": "code",
   "execution_count": 57,
   "metadata": {},
   "outputs": [],
   "source": [
    "# calling the function to create a database \n",
    "cur,conn = create_database()"
   ]
  },
  {
   "cell_type": "markdown",
   "metadata": {},
   "source": []
  },
  {
   "cell_type": "code",
   "execution_count": null,
   "metadata": {},
   "outputs": [],
   "source": []
  },
  {
   "cell_type": "code",
   "execution_count": null,
   "metadata": {},
   "outputs": [],
   "source": []
  },
  {
   "cell_type": "code",
   "execution_count": 59,
   "metadata": {},
   "outputs": [],
   "source": [
    "loans_table = (\"\"\"\n",
    "    CREATE TABLE IF NOT EXISTS loans(\n",
    "            loan_id VARCHAR PRIMARY KEY NOT NULL,\n",
    "            account_id VARCHAR NOT NULL,\n",
    "            amount NUMERIC ,\n",
    "            duration INTEGER ,\n",
    "            year INTEGER,\n",
    "            purpose TEXT \n",
    "    )\"\"\")\n",
    "\n",
    "#execute the query \n",
    "cur.execute(loans_table)\n",
    "#commiting the query \n",
    "conn.commit()"
   ]
  },
  {
   "cell_type": "code",
   "execution_count": 60,
   "metadata": {},
   "outputs": [],
   "source": [
    "clients_table =(\"\"\"\n",
    "    CREATE TABLE IF NOT EXISTS clients (\n",
    "        client_id VARCHAR PRIMARY KEY NOT NULL,\n",
    "        first_name TEXT,\n",
    "        last_name TEXT,\n",
    "        email VARCHAR ,\n",
    "        date_of_birth DATE \n",
    "                 )\"\"\")\n",
    "\n",
    "#execute the query \n",
    "cur.execute(clients_table)\n",
    "#commiting the query \n",
    "conn.commit()"
   ]
  },
  {
   "cell_type": "code",
   "execution_count": 61,
   "metadata": {},
   "outputs": [],
   "source": [
    "accounts_table = (\"\"\"\n",
    "    CREATE TABLE IF NOT EXISTS accounts (\n",
    "            account_id VARCHAR PRIMARY KEY NOT NULL,\n",
    "            district_id INTEGER,\n",
    "            frequency TEXT,\n",
    "            parsedate DATE\n",
    "    )\"\"\")\n",
    "\n",
    "#execute the query \n",
    "cur.execute(accounts_table)\n",
    "#committing the query \n",
    "conn.commit()\n"
   ]
  },
  {
   "cell_type": "markdown",
   "metadata": {},
   "source": [
    "### Inserting Data into the created tables"
   ]
  },
  {
   "cell_type": "code",
   "execution_count": 62,
   "metadata": {},
   "outputs": [
    {
     "data": {
      "text/plain": [
       "Index(['loan_id', 'account_id', 'amount', 'duration', 'year', 'purpose'], dtype='object')"
      ]
     },
     "execution_count": 62,
     "metadata": {},
     "output_type": "execute_result"
    }
   ],
   "source": [
    "loans = pd.read_csv(\"loans.csv\")\n",
    "loans.columns"
   ]
  },
  {
   "cell_type": "code",
   "execution_count": 63,
   "metadata": {},
   "outputs": [],
   "source": [
    "## insert into loans tables \n",
    "loans_table_insert = (\"\"\"\n",
    "    INSERT INTO loans(\n",
    "        loan_id,\n",
    "        account_id,\n",
    "        amount,\n",
    "        duration,\n",
    "        year,\n",
    "        purpose)\n",
    "        VALUES (%s,%s,%s,%s,%s,%s)\"\"\")"
   ]
  },
  {
   "cell_type": "code",
   "execution_count": 64,
   "metadata": {},
   "outputs": [],
   "source": [
    "# inserting the dataset into the table\n",
    "for i,row in loans.iterrows():\n",
    "        cur.execute(loans_table_insert,list(row))"
   ]
  },
  {
   "cell_type": "code",
   "execution_count": 65,
   "metadata": {},
   "outputs": [
    {
     "data": {
      "text/plain": [
       "Index(['client_id', 'first', 'last', 'email', 'fulldate'], dtype='object')"
      ]
     },
     "execution_count": 65,
     "metadata": {},
     "output_type": "execute_result"
    }
   ],
   "source": [
    "clients = pd.read_csv(\"clientdetails.csv\")\n",
    "clients.columns"
   ]
  },
  {
   "cell_type": "code",
   "execution_count": 66,
   "metadata": {},
   "outputs": [],
   "source": [
    "clients_table_insert = (\"\"\"\n",
    "    INSERT INTO clients (\n",
    "            client_id,\n",
    "            first_name,\n",
    "            last_name ,\n",
    "            email,\n",
    "            date_of_birth)\n",
    "            VALUES(%s,%s,%s,%s,%s)\n",
    "    )\"\"\")"
   ]
  },
  {
   "cell_type": "code",
   "execution_count": 67,
   "metadata": {},
   "outputs": [],
   "source": [
    "for i,row in clients.iterrows():\n",
    "    cur.execute(clients_table,list(row))"
   ]
  },
  {
   "cell_type": "code",
   "execution_count": 68,
   "metadata": {},
   "outputs": [
    {
     "data": {
      "text/plain": [
       "Index(['account_id', 'district_id', 'frequency', 'parseddate'], dtype='object')"
      ]
     },
     "execution_count": 68,
     "metadata": {},
     "output_type": "execute_result"
    }
   ],
   "source": [
    "accounts = pd.read_csv(\"accounts.csv\")\n",
    "accounts.columns"
   ]
  },
  {
   "cell_type": "code",
   "execution_count": 69,
   "metadata": {},
   "outputs": [],
   "source": [
    "accounts_table_insert =(\"\"\"\n",
    "        INSERT INTO accounts( \n",
    "            account_id,\n",
    "            district_id,\n",
    "            frequency,\n",
    "            parseddate\n",
    "        )\"\"\")"
   ]
  },
  {
   "cell_type": "code",
   "execution_count": 70,
   "metadata": {},
   "outputs": [],
   "source": [
    "for i,row in accounts.iterrows():\n",
    "    cur.execute(accounts_table,list(row))"
   ]
  },
  {
   "cell_type": "code",
   "execution_count": 74,
   "metadata": {},
   "outputs": [],
   "source": [
    "cur.execute(\"\"\"SELECT * FROM accounts\"\"\")\n",
    "\n",
    "# Fetch all results from the executed query\n",
    "rows = cur.fetchall()\n",
    "\n",
    "for row in rows:\n",
    "    print(row)"
   ]
  },
  {
   "cell_type": "code",
   "execution_count": 75,
   "metadata": {},
   "outputs": [
    {
     "name": "stdout",
     "output_type": "stream",
     "text": [
      "[]\n"
     ]
    }
   ],
   "source": [
    "print(rows)"
   ]
  }
 ],
 "metadata": {
  "kernelspec": {
   "display_name": "dan",
   "language": "python",
   "name": "python3"
  },
  "language_info": {
   "codemirror_mode": {
    "name": "ipython",
    "version": 3
   },
   "file_extension": ".py",
   "mimetype": "text/x-python",
   "name": "python",
   "nbconvert_exporter": "python",
   "pygments_lexer": "ipython3",
   "version": "3.12.1"
  }
 },
 "nbformat": 4,
 "nbformat_minor": 2
}
